{
  "nbformat": 4,
  "nbformat_minor": 0,
  "metadata": {
    "colab": {
      "provenance": [],
      "gpuType": "T4",
      "authorship_tag": "ABX9TyPIW3+shXPlSlBTnSM24Mxu",
      "include_colab_link": true
    },
    "kernelspec": {
      "name": "python3",
      "display_name": "Python 3"
    },
    "language_info": {
      "name": "python"
    },
    "accelerator": "GPU"
  },
  "cells": [
    {
      "cell_type": "markdown",
      "metadata": {
        "id": "view-in-github",
        "colab_type": "text"
      },
      "source": [
        "<a href=\"https://colab.research.google.com/github/Dukzf1v/AIO_Exercises/blob/main/M04W01.ipynb\" target=\"_parent\"><img src=\"https://colab.research.google.com/assets/colab-badge.svg\" alt=\"Open In Colab\"/></a>"
      ]
    },
    {
      "cell_type": "markdown",
      "source": [
        "#### Question 1"
      ],
      "metadata": {
        "id": "BofUbE-puBWH"
      }
    },
    {
      "cell_type": "code",
      "execution_count": 3,
      "metadata": {
        "id": "uogdezk4_k9c"
      },
      "outputs": [],
      "source": [
        "import numpy as np\n",
        "import matplotlib.pyplot as plt\n",
        "import random\n",
        "from google.colab import files"
      ]
    },
    {
      "cell_type": "code",
      "source": [
        "data = files.upload()"
      ],
      "metadata": {
        "colab": {
          "base_uri": "https://localhost:8080/",
          "height": 73
        },
        "id": "Ds6sewXLuXml",
        "outputId": "c7f9afbf-fc21-4465-f91d-df2e737a68ed"
      },
      "execution_count": 4,
      "outputs": [
        {
          "output_type": "display_data",
          "data": {
            "text/plain": [
              "<IPython.core.display.HTML object>"
            ],
            "text/html": [
              "\n",
              "     <input type=\"file\" id=\"files-e9ffd7c4-a320-4883-9e8b-104ede1eca93\" name=\"files[]\" multiple disabled\n",
              "        style=\"border:none\" />\n",
              "     <output id=\"result-e9ffd7c4-a320-4883-9e8b-104ede1eca93\">\n",
              "      Upload widget is only available when the cell has been executed in the\n",
              "      current browser session. Please rerun this cell to enable.\n",
              "      </output>\n",
              "      <script>// Copyright 2017 Google LLC\n",
              "//\n",
              "// Licensed under the Apache License, Version 2.0 (the \"License\");\n",
              "// you may not use this file except in compliance with the License.\n",
              "// You may obtain a copy of the License at\n",
              "//\n",
              "//      http://www.apache.org/licenses/LICENSE-2.0\n",
              "//\n",
              "// Unless required by applicable law or agreed to in writing, software\n",
              "// distributed under the License is distributed on an \"AS IS\" BASIS,\n",
              "// WITHOUT WARRANTIES OR CONDITIONS OF ANY KIND, either express or implied.\n",
              "// See the License for the specific language governing permissions and\n",
              "// limitations under the License.\n",
              "\n",
              "/**\n",
              " * @fileoverview Helpers for google.colab Python module.\n",
              " */\n",
              "(function(scope) {\n",
              "function span(text, styleAttributes = {}) {\n",
              "  const element = document.createElement('span');\n",
              "  element.textContent = text;\n",
              "  for (const key of Object.keys(styleAttributes)) {\n",
              "    element.style[key] = styleAttributes[key];\n",
              "  }\n",
              "  return element;\n",
              "}\n",
              "\n",
              "// Max number of bytes which will be uploaded at a time.\n",
              "const MAX_PAYLOAD_SIZE = 100 * 1024;\n",
              "\n",
              "function _uploadFiles(inputId, outputId) {\n",
              "  const steps = uploadFilesStep(inputId, outputId);\n",
              "  const outputElement = document.getElementById(outputId);\n",
              "  // Cache steps on the outputElement to make it available for the next call\n",
              "  // to uploadFilesContinue from Python.\n",
              "  outputElement.steps = steps;\n",
              "\n",
              "  return _uploadFilesContinue(outputId);\n",
              "}\n",
              "\n",
              "// This is roughly an async generator (not supported in the browser yet),\n",
              "// where there are multiple asynchronous steps and the Python side is going\n",
              "// to poll for completion of each step.\n",
              "// This uses a Promise to block the python side on completion of each step,\n",
              "// then passes the result of the previous step as the input to the next step.\n",
              "function _uploadFilesContinue(outputId) {\n",
              "  const outputElement = document.getElementById(outputId);\n",
              "  const steps = outputElement.steps;\n",
              "\n",
              "  const next = steps.next(outputElement.lastPromiseValue);\n",
              "  return Promise.resolve(next.value.promise).then((value) => {\n",
              "    // Cache the last promise value to make it available to the next\n",
              "    // step of the generator.\n",
              "    outputElement.lastPromiseValue = value;\n",
              "    return next.value.response;\n",
              "  });\n",
              "}\n",
              "\n",
              "/**\n",
              " * Generator function which is called between each async step of the upload\n",
              " * process.\n",
              " * @param {string} inputId Element ID of the input file picker element.\n",
              " * @param {string} outputId Element ID of the output display.\n",
              " * @return {!Iterable<!Object>} Iterable of next steps.\n",
              " */\n",
              "function* uploadFilesStep(inputId, outputId) {\n",
              "  const inputElement = document.getElementById(inputId);\n",
              "  inputElement.disabled = false;\n",
              "\n",
              "  const outputElement = document.getElementById(outputId);\n",
              "  outputElement.innerHTML = '';\n",
              "\n",
              "  const pickedPromise = new Promise((resolve) => {\n",
              "    inputElement.addEventListener('change', (e) => {\n",
              "      resolve(e.target.files);\n",
              "    });\n",
              "  });\n",
              "\n",
              "  const cancel = document.createElement('button');\n",
              "  inputElement.parentElement.appendChild(cancel);\n",
              "  cancel.textContent = 'Cancel upload';\n",
              "  const cancelPromise = new Promise((resolve) => {\n",
              "    cancel.onclick = () => {\n",
              "      resolve(null);\n",
              "    };\n",
              "  });\n",
              "\n",
              "  // Wait for the user to pick the files.\n",
              "  const files = yield {\n",
              "    promise: Promise.race([pickedPromise, cancelPromise]),\n",
              "    response: {\n",
              "      action: 'starting',\n",
              "    }\n",
              "  };\n",
              "\n",
              "  cancel.remove();\n",
              "\n",
              "  // Disable the input element since further picks are not allowed.\n",
              "  inputElement.disabled = true;\n",
              "\n",
              "  if (!files) {\n",
              "    return {\n",
              "      response: {\n",
              "        action: 'complete',\n",
              "      }\n",
              "    };\n",
              "  }\n",
              "\n",
              "  for (const file of files) {\n",
              "    const li = document.createElement('li');\n",
              "    li.append(span(file.name, {fontWeight: 'bold'}));\n",
              "    li.append(span(\n",
              "        `(${file.type || 'n/a'}) - ${file.size} bytes, ` +\n",
              "        `last modified: ${\n",
              "            file.lastModifiedDate ? file.lastModifiedDate.toLocaleDateString() :\n",
              "                                    'n/a'} - `));\n",
              "    const percent = span('0% done');\n",
              "    li.appendChild(percent);\n",
              "\n",
              "    outputElement.appendChild(li);\n",
              "\n",
              "    const fileDataPromise = new Promise((resolve) => {\n",
              "      const reader = new FileReader();\n",
              "      reader.onload = (e) => {\n",
              "        resolve(e.target.result);\n",
              "      };\n",
              "      reader.readAsArrayBuffer(file);\n",
              "    });\n",
              "    // Wait for the data to be ready.\n",
              "    let fileData = yield {\n",
              "      promise: fileDataPromise,\n",
              "      response: {\n",
              "        action: 'continue',\n",
              "      }\n",
              "    };\n",
              "\n",
              "    // Use a chunked sending to avoid message size limits. See b/62115660.\n",
              "    let position = 0;\n",
              "    do {\n",
              "      const length = Math.min(fileData.byteLength - position, MAX_PAYLOAD_SIZE);\n",
              "      const chunk = new Uint8Array(fileData, position, length);\n",
              "      position += length;\n",
              "\n",
              "      const base64 = btoa(String.fromCharCode.apply(null, chunk));\n",
              "      yield {\n",
              "        response: {\n",
              "          action: 'append',\n",
              "          file: file.name,\n",
              "          data: base64,\n",
              "        },\n",
              "      };\n",
              "\n",
              "      let percentDone = fileData.byteLength === 0 ?\n",
              "          100 :\n",
              "          Math.round((position / fileData.byteLength) * 100);\n",
              "      percent.textContent = `${percentDone}% done`;\n",
              "\n",
              "    } while (position < fileData.byteLength);\n",
              "  }\n",
              "\n",
              "  // All done.\n",
              "  yield {\n",
              "    response: {\n",
              "      action: 'complete',\n",
              "    }\n",
              "  };\n",
              "}\n",
              "\n",
              "scope.google = scope.google || {};\n",
              "scope.google.colab = scope.google.colab || {};\n",
              "scope.google.colab._files = {\n",
              "  _uploadFiles,\n",
              "  _uploadFilesContinue,\n",
              "};\n",
              "})(self);\n",
              "</script> "
            ]
          },
          "metadata": {}
        },
        {
          "output_type": "stream",
          "name": "stdout",
          "text": [
            "Saving advertising.csv to advertising.csv\n"
          ]
        }
      ]
    },
    {
      "cell_type": "code",
      "source": [
        "def get_column(data, index):\n",
        "    result = [row[index] for row in data]\n",
        "    return result\n",
        "def prepare_data(file_name_dataset):\n",
        "  data = np.genfromtxt(file_name_dataset, delimiter=',', skip_header=1).tolist()\n",
        "  N = len(data)\n",
        "\n",
        "  # get tv (index=0)\n",
        "  tv_data = get_column(data, 0)\n",
        "\n",
        "  # get radio (index=1)\n",
        "  radio_data = get_column(data, 1)\n",
        "\n",
        "  # get newspaper (index=2)\n",
        "  newspaper_data = get_column(data, 2)\n",
        "\n",
        "  # get sales (index=3)\n",
        "  sales_data = get_column(data, 3)\n",
        "\n",
        "  # building X input  and y output for training\n",
        "  X = [tv_data, radio_data, newspaper_data]\n",
        "  y = sales_data\n",
        "  return X,y"
      ],
      "metadata": {
        "id": "xcxKhpUzu4jY"
      },
      "execution_count": 5,
      "outputs": []
    },
    {
      "cell_type": "code",
      "source": [
        "X,y = prepare_data('advertising.csv')\n",
        "list = [sum(X[0][:5]), sum(X[1][:5]), sum(X[2][:5]), sum(y[:5])]\n",
        "print(list)"
      ],
      "metadata": {
        "colab": {
          "base_uri": "https://localhost:8080/"
        },
        "id": "HlZqNsBObOwO",
        "outputId": "361a01eb-944f-4f0e-ccf7-b5f865a50365"
      },
      "execution_count": 6,
      "outputs": [
        {
          "output_type": "stream",
          "name": "stdout",
          "text": [
            "[624.1, 175.10000000000002, 300.5, 78.9]\n"
          ]
        }
      ]
    },
    {
      "cell_type": "code",
      "source": [
        "def initialize_params():\n",
        "    # w1 = random.gauss(mu=0.0, sigma=0.01)\n",
        "    # w2 = random.gauss(mu=0.0, sigma=0.01)\n",
        "    # w3 = random.gauss(mu=0.0, sigma=0.01)\n",
        "    # b  = 0\n",
        "\n",
        "    w1, w2, w3, b = (0.016992259082509283, 0.0070783670518262355, -0.002307860847821344, 0)\n",
        "    return w1, w2, w3, b\n",
        "\n",
        "print(initialize_params())"
      ],
      "metadata": {
        "colab": {
          "base_uri": "https://localhost:8080/"
        },
        "id": "KpaT_FALcITg",
        "outputId": "bece5702-d959-47f7-e83c-37e81444ac19"
      },
      "execution_count": 7,
      "outputs": [
        {
          "output_type": "stream",
          "name": "stdout",
          "text": [
            "(0.016992259082509283, 0.0070783670518262355, -0.002307860847821344, 0)\n"
          ]
        }
      ]
    },
    {
      "cell_type": "code",
      "source": [
        "# compute output and loss\n",
        "def predict(x1, x2, x3, w1, w2, w3, b):\n",
        "\n",
        "    result = w1*x1 + w2*x2 + w3*x3 + b\n",
        "\n",
        "    return result\n",
        "\n",
        "def compute_loss_mse(y_hat, y):\n",
        "\n",
        "    result = (y_hat - y)**2\n",
        "\n",
        "    return result\n",
        "\n",
        "def compute_loss_mae(y_hat, y):\n",
        "\n",
        "    result = abs(y_hat - y)\n",
        "\n",
        "    return result\n",
        "\n",
        "# compute gradient\n",
        "def compute_gradient_wi(xi, y, y_hat):\n",
        "\n",
        "    dl_dwi = 2*(y_hat - y)*xi\n",
        "\n",
        "    return dl_dwi\n",
        "\n",
        "def compute_gradient_b(y, y_hat):\n",
        "\n",
        "    dl_db = 2*(y_hat - y)\n",
        "\n",
        "    return dl_db\n",
        "\n",
        "# update weights\n",
        "def update_weight_wi(wi, dl_dwi, lr):\n",
        "\n",
        "    wi = wi - lr*dl_dwi\n",
        "\n",
        "    return wi\n",
        "\n",
        "def update_weight_b(b, dl_db, lr):\n",
        "\n",
        "    b = b - lr*dl_db\n",
        "\n",
        "    return b"
      ],
      "metadata": {
        "id": "Sdd68eWcbwhz"
      },
      "execution_count": 10,
      "outputs": []
    },
    {
      "cell_type": "code",
      "source": [
        "def implement_linear_regression(X_data, y_data, epoch_max = 50,lr = 1e-5):\n",
        "  losses = []\n",
        "\n",
        "  w1, w2, w3, b = initialize_params()\n",
        "\n",
        "  N = len(y_data)\n",
        "  for epoch in range(epoch_max):\n",
        "      for i in range(N):\n",
        "          # get a sample\n",
        "          x1 = X_data[0][i]\n",
        "          x2 = X_data[1][i]\n",
        "          x3 = X_data[2][i]\n",
        "\n",
        "          y  = y_data[i]\n",
        "\n",
        "          # print(y)\n",
        "          # compute output\n",
        "          y_hat = predict(x1, x2, x3, w1, w2, w3, b)\n",
        "\n",
        "          # compute loss\n",
        "          loss = compute_loss_mse(y, y_hat)\n",
        "\n",
        "          # compute gradient w1, w2, w3, b\n",
        "          dl_dw1 = compute_gradient_wi(x1, y, y_hat)\n",
        "          dl_dw2 = compute_gradient_wi(x2, y, y_hat)\n",
        "          dl_dw3 = compute_gradient_wi(x3, y, y_hat)\n",
        "          dl_db  = compute_gradient_b(y, y_hat)\n",
        "\n",
        "          # update parameters\n",
        "          w1 = update_weight_wi(w1, dl_dw1, lr)\n",
        "          w2 = update_weight_wi(w2, dl_dw2, lr)\n",
        "          w3 = update_weight_wi(w3, dl_dw3, lr)\n",
        "          b  = update_weight_b(b, dl_db, lr)\n",
        "\n",
        "          # logging\n",
        "          losses.append(loss)\n",
        "  return (w1,w2,w3,b, losses)"
      ],
      "metadata": {
        "id": "7wkrdyzVfAlL"
      },
      "execution_count": 11,
      "outputs": []
    },
    {
      "cell_type": "code",
      "source": [
        "#Multiple choices:\n",
        "#Question 2:\n",
        "y_p = predict(x1 = 1, x2 =1, x3=1, w1=0, w2=0.5, w3=0, b=0.5)\n",
        "print(y_p)"
      ],
      "metadata": {
        "colab": {
          "base_uri": "https://localhost:8080/"
        },
        "id": "vp3RLE_9fzyp",
        "outputId": "340af62b-b4fb-4e29-f0d3-189e80d30881"
      },
      "execution_count": 12,
      "outputs": [
        {
          "output_type": "stream",
          "name": "stdout",
          "text": [
            "1.0\n"
          ]
        }
      ]
    },
    {
      "cell_type": "code",
      "source": [
        "#Multiple choices:\n",
        "#Question 3:\n",
        "l = compute_loss_mse(y_hat=1, y=0.5)\n",
        "print(l)"
      ],
      "metadata": {
        "colab": {
          "base_uri": "https://localhost:8080/"
        },
        "id": "pbzCLpRXf2tw",
        "outputId": "3e35ed4a-60f6-458d-dbe8-fdc017fa7869"
      },
      "execution_count": 13,
      "outputs": [
        {
          "output_type": "stream",
          "name": "stdout",
          "text": [
            "0.25\n"
          ]
        }
      ]
    },
    {
      "cell_type": "code",
      "source": [
        "#Multiple choices:\n",
        "#Question 4:\n",
        "g_wi = compute_gradient_wi(xi=1.0, y=1.0, y_hat=0.5)\n",
        "print(g_wi)"
      ],
      "metadata": {
        "colab": {
          "base_uri": "https://localhost:8080/"
        },
        "id": "gxlj_-emf7QY",
        "outputId": "48209a6c-22b2-432b-e5db-03064b701b6e"
      },
      "execution_count": 15,
      "outputs": [
        {
          "output_type": "stream",
          "name": "stdout",
          "text": [
            "-1.0\n"
          ]
        }
      ]
    },
    {
      "cell_type": "code",
      "source": [
        "#Multiple choices:\n",
        "#Question 5:\n",
        "g_b =  compute_gradient_b(y=2.0, y_hat=0.5)\n",
        "print(g_b)"
      ],
      "metadata": {
        "colab": {
          "base_uri": "https://localhost:8080/"
        },
        "id": "S05CIgv5f9Km",
        "outputId": "d67aff94-f126-4aad-90e8-495fe317306c"
      },
      "execution_count": 16,
      "outputs": [
        {
          "output_type": "stream",
          "name": "stdout",
          "text": [
            "-3.0\n"
          ]
        }
      ]
    },
    {
      "cell_type": "code",
      "source": [
        "#Multiple choices:\n",
        "#Question 6:\n",
        "after_wi = update_weight_wi(wi=1.0, dl_dwi=-0.5, lr = 1e-5)\n",
        "print(after_wi)"
      ],
      "metadata": {
        "colab": {
          "base_uri": "https://localhost:8080/"
        },
        "id": "hkZh_u72f9Ph",
        "outputId": "8ececcf1-6c49-41a6-8b7a-7b58330491a8"
      },
      "execution_count": 18,
      "outputs": [
        {
          "output_type": "stream",
          "name": "stdout",
          "text": [
            "1.000005\n"
          ]
        }
      ]
    },
    {
      "cell_type": "code",
      "source": [
        "#Multiple choices:\n",
        "#Question 7:\n",
        "after_b = update_weight_b(b=0.5, dl_db=-1.0, lr = 1e-5)\n",
        "print(after_b)"
      ],
      "metadata": {
        "colab": {
          "base_uri": "https://localhost:8080/"
        },
        "id": "TpGlIrULf9nC",
        "outputId": "9dd1ffcf-283b-407f-c09f-3c88cb11ce41"
      },
      "execution_count": 17,
      "outputs": [
        {
          "output_type": "stream",
          "name": "stdout",
          "text": [
            "0.50001\n"
          ]
        }
      ]
    },
    {
      "cell_type": "code",
      "source": [
        "X,y = prepare_data('advertising.csv')\n",
        "(w1,w2,w3,b, losses) = implement_linear_regression(X,y)\n",
        "plt.plot(losses[:100])\n",
        "plt.xlabel(\"#iteration\")\n",
        "plt.ylabel(\"Loss\")\n",
        "plt.show()"
      ],
      "metadata": {
        "colab": {
          "base_uri": "https://localhost:8080/",
          "height": 449
        },
        "id": "EFa5RkFfg52Z",
        "outputId": "c2e8d70f-6d04-4146-a741-66da21852b78"
      },
      "execution_count": 19,
      "outputs": [
        {
          "output_type": "display_data",
          "data": {
            "text/plain": [
              "<Figure size 640x480 with 1 Axes>"
            ],
            "image/png": "[encoded data removed]"
          },
          "metadata": {}
        }
      ]
    },
    {
      "cell_type": "code",
      "source": [
        "#Multiple choices:\n",
        "#Question 8:\n",
        "X,y = prepare_data('advertising.csv')\n",
        "(w1,w2,w3,b, losses) = implement_linear_regression(X,y)\n",
        "print(w1,w2,w3)"
      ],
      "metadata": {
        "colab": {
          "base_uri": "https://localhost:8080/"
        },
        "id": "Kwq68NFshLPj",
        "outputId": "b1f00ff0-c0c3-425e-dd32-e941eb57b0e7"
      },
      "execution_count": 20,
      "outputs": [
        {
          "output_type": "stream",
          "name": "stdout",
          "text": [
            "0.07405984066396477 0.15917360263437663 0.017561197559948935\n"
          ]
        }
      ]
    },
    {
      "cell_type": "code",
      "source": [
        "#Multiple choices:\n",
        "#Question 9:\n",
        "# given new data\n",
        "tv = 19.2\n",
        "radio = 35.9\n",
        "newspaper = 51.3\n",
        "\n",
        "X,y = prepare_data('advertising.csv')\n",
        "(w1,w2,w3,b, losses) = implement_linear_regression(X,y)\n",
        "sales = predict(tv, radio, newspaper, w1, w2, w3, b)\n",
        "print(f'predicted sales is {sales}')"
      ],
      "metadata": {
        "colab": {
          "base_uri": "https://localhost:8080/"
        },
        "id": "M6Je-mE_hasr",
        "outputId": "ae7298ae-54e4-458b-ac3d-b57b921f12cb"
      },
      "execution_count": 21,
      "outputs": [
        {
          "output_type": "stream",
          "name": "stdout",
          "text": [
            "predicted sales is 8.176413319549823\n"
          ]
        }
      ]
    },
    {
      "cell_type": "markdown",
      "source": [
        "###Question 3"
      ],
      "metadata": {
        "id": "diuIXA_Uh58K"
      }
    },
    {
      "cell_type": "code",
      "source": [
        "def implement_linear_regression_nsamples(X_data, y_data, epoch_max=50, lr=1e-5):\n",
        "    losses = []\n",
        "\n",
        "    w1, w2, w3, b = initialize_params()\n",
        "    N = len(y_data)\n",
        "\n",
        "    for epoch in range(epoch_max):\n",
        "        loss_total = 0.0\n",
        "        dw1_total = 0.0\n",
        "        dw2_total = 0.0\n",
        "        dw3_total = 0.0\n",
        "        db_total = 0.0\n",
        "\n",
        "        for i in range(N):\n",
        "            # Get a sample\n",
        "            x1 = X_data[0][i]\n",
        "            x2 = X_data[1][i]\n",
        "            x3 = X_data[2][i]\n",
        "            y = y_data[i]\n",
        "\n",
        "            # Compute output\n",
        "            y_hat = predict(x1, x2, x3, w1, w2, w3, b)\n",
        "\n",
        "            # Compute loss\n",
        "            loss = compute_loss_mae(y, y_hat)\n",
        "\n",
        "            # Accumulate loss to total loss\n",
        "            loss_total += loss\n",
        "\n",
        "            # Compute gradients for w1, w2, w3, b\n",
        "            dl_dw1 = compute_gradient_wi(x1, y, y_hat)\n",
        "            dl_dw2 = compute_gradient_wi(x2, y, y_hat)\n",
        "            dl_dw3 = compute_gradient_wi(x3, y, y_hat)\n",
        "            dl_db = compute_gradient_b(y, y_hat)\n",
        "\n",
        "            # Accumulate gradients\n",
        "            dw1_total += dl_dw1\n",
        "            dw2_total += dl_dw2\n",
        "            dw3_total += dl_dw3\n",
        "            db_total += dl_db\n",
        "\n",
        "        # Update parameters after processing all samples\n",
        "        w1 = update_weight_wi(w1, dw1_total / N, lr)\n",
        "        w2 = update_weight_wi(w2, dw2_total / N, lr)\n",
        "        w3 = update_weight_wi(w3, dw3_total / N, lr)\n",
        "        b = update_weight_b(b, db_total / N, lr)\n",
        "\n",
        "        # Logging average loss\n",
        "        losses.append(loss_total / N)\n",
        "\n",
        "    return (w1, w2, w3, b, losses)\n"
      ],
      "metadata": {
        "id": "WjnFh9OTh7Zd"
      },
      "execution_count": 32,
      "outputs": []
    },
    {
      "cell_type": "code",
      "source": [
        "X,y = prepare_data('advertising.csv')\n",
        "(w1,w2,w3,b, losses) = implement_linear_regression_nsamples(X,y,1000, 1e-5)\n",
        "print(w1,w2,w3)\n",
        "plt.plot(losses)\n",
        "plt.xlabel(\"#epoch\")\n",
        "plt.ylabel(\"MAE Loss\")\n",
        "plt.show()"
      ],
      "metadata": {
        "colab": {
          "base_uri": "https://localhost:8080/",
          "height": 466
        },
        "id": "jbr0z5DrjiHF",
        "outputId": "84561a82-0ac3-447c-a8cf-a92ec6b5571b"
      },
      "execution_count": 33,
      "outputs": [
        {
          "output_type": "stream",
          "name": "stdout",
          "text": [
            "0.06710990754044266 0.15756173831487585 0.029619799386084403\n"
          ]
        },
        {
          "output_type": "display_data",
          "data": {
            "text/plain": [
              "<Figure size 640x480 with 1 Axes>"
            ],
            "image/png": "[encoded data removed]"
          },
          "metadata": {}
        }
      ]
    },
    {
      "cell_type": "code",
      "source": [
        "#Multiple choices:\n",
        "#Question 11:\n",
        "X,y = prepare_data('advertising.csv')\n",
        "(w1,w2,w3,b, losses) = implement_linear_regression_nsamples(X,y,1000)\n",
        "print(w1,w2,w3)"
      ],
      "metadata": {
        "colab": {
          "base_uri": "https://localhost:8080/"
        },
        "id": "vots-X9yjr1x",
        "outputId": "122ccfcf-8a9f-45cc-e851-629da19354bd"
      },
      "execution_count": 34,
      "outputs": [
        {
          "output_type": "stream",
          "name": "stdout",
          "text": [
            "0.06710990754044266 0.15756173831487585 0.029619799386084403\n"
          ]
        }
      ]
    },
    {
      "cell_type": "markdown",
      "source": [
        "###Question 4"
      ],
      "metadata": {
        "id": "FWlbHB3Wlk_z"
      }
    },
    {
      "cell_type": "code",
      "source": [
        "import numpy as np\n",
        "\n",
        "def get_column(data, index):\n",
        "    \"\"\"Extracts a column from the dataset.\"\"\"\n",
        "    return [row[index] for row in data]\n",
        "\n",
        "def prepare_data(file_name_dataset):\n",
        "    # Load data from CSV file\n",
        "    data = np.genfromtxt(file_name_dataset, delimiter=',', skip_header=1).tolist()\n",
        "\n",
        "    # Extract columns\n",
        "    tv_data = get_column(data, 0)       # TV data (index = 0)\n",
        "    radio_data = get_column(data, 1)     # Radio data (index = 1)\n",
        "    newspaper_data = get_column(data, 2) # Newspaper data (index = 2)\n",
        "    sales_data = get_column(data, 3)     # Sales data (index = 3)\n",
        "\n",
        "    # Prepare input features and output labels for training\n",
        "    X = [[1, x1, x2, x3] for x1, x2, x3 in zip(tv_data, radio_data, newspaper_data)]\n",
        "    y = sales_data\n",
        "    return X, y\n"
      ],
      "metadata": {
        "id": "eD1Vm9N8lpcg"
      },
      "execution_count": 35,
      "outputs": []
    },
    {
      "cell_type": "code",
      "source": [
        "def initialize_params():\n",
        "    # w1 = random.gauss(mu=0.0, sigma=0.01)\n",
        "    # w2 = random.gauss(mu=0.0, sigma=0.01)\n",
        "    # w3 = random.gauss(mu=0.0, sigma=0.01)\n",
        "    # b  = 0\n",
        "\n",
        "    return [0 , -0.01268850433497871 , 0.004752496982185252 , 0.0073796171538643845]\n",
        "\n",
        "print(initialize_params())"
      ],
      "metadata": {
        "colab": {
          "base_uri": "https://localhost:8080/"
        },
        "id": "MSv83JdtmWuI",
        "outputId": "5ccfc363-9336-495f-90d8-b681243972ec"
      },
      "execution_count": 37,
      "outputs": [
        {
          "output_type": "stream",
          "name": "stdout",
          "text": [
            "[0, -0.01268850433497871, 0.004752496982185252, 0.0073796171538643845]\n"
          ]
        }
      ]
    },
    {
      "cell_type": "code",
      "source": [
        "def predict(X_features, weights):\n",
        "  return sum([f*W for f, W in zip(X_features, weights)])\n",
        "\n",
        "def compute_loss(y_hat, y):\n",
        "  return (y_hat - y)**2\n",
        "\n",
        "def compute_gradient(X_features, y, y_hat):\n",
        "   dl_dweights = [2*(y_hat - y)*f for f in X_features]\n",
        "   return dl_dweights\n",
        "\n",
        "def update_weight(weights, dl_dweights, lr):\n",
        "  weights = [w - lr*dl for w, dl in zip(weights, dl_dweights)]\n",
        "  return weights\n"
      ],
      "metadata": {
        "id": "i9K0exHlmwuR"
      },
      "execution_count": 60,
      "outputs": []
    },
    {
      "cell_type": "code",
      "source": [
        "\n",
        "\n",
        "def implement_linear_regression(X_feature, y_output, epoch_max=50, lr=1e-5):\n",
        "    losses = []\n",
        "    weights = initialize_params()  # Initialize parameters\n",
        "    N = len(y_output)  # Number of samples\n",
        "\n",
        "    for epoch in range(epoch_max):\n",
        "        for i in range(N):\n",
        "            # Get a sample - row i\n",
        "            features_i = X_feature[i]\n",
        "            y = y_output[i]  # Use y_output instead of sales_data\n",
        "\n",
        "            # Compute output\n",
        "            y_hat = predict(features_i, weights)\n",
        "\n",
        "            # Compute loss\n",
        "            loss = compute_loss(y, y_hat)\n",
        "\n",
        "            # Compute gradient w.r.t. weights\n",
        "            dl_dweights = compute_gradient(features_i, y, y_hat)\n",
        "\n",
        "            # Update parameters\n",
        "            weights = update_weight(weights, dl_dweights, lr)\n",
        "\n",
        "        # Logging the average loss for this epoch\n",
        "            losses.append(loss)  # Store the loss of the last sample for that epoch\n",
        "\n",
        "    return weights, losses\n"
      ],
      "metadata": {
        "id": "tlIIeZNEnwSn"
      },
      "execution_count": 63,
      "outputs": []
    },
    {
      "cell_type": "code",
      "source": [
        "# Example usage\n",
        "X, y = prepare_data('advertising.csv')\n",
        "W, L = implement_linear_regression(X, y, epoch_max=100, lr=1e-5)\n",
        "\n",
        "# Plotting the loss\n",
        "plt.plot(L[0:100])  # Plot the first 100 losses\n",
        "plt.xlabel(\"# Iteration\")\n",
        "plt.ylabel(\"Loss\")\n",
        "plt.show()"
      ],
      "metadata": {
        "colab": {
          "base_uri": "https://localhost:8080/",
          "height": 449
        },
        "id": "iJAHNuJYqoxE",
        "outputId": "be8f7c8f-ce64-425e-90a2-3714cbf522de"
      },
      "execution_count": 64,
      "outputs": [
        {
          "output_type": "display_data",
          "data": {
            "text/plain": [
              "<Figure size 640x480 with 1 Axes>"
            ],
            "image/png": "[encoded data removed]"
          },
          "metadata": {}
        }
      ]
    },
    {
      "cell_type": "code",
      "source": [
        "X , y = prepare_data ('advertising.csv')\n",
        "W, L = implement_linear_regression(X, y, epoch_max=50, lr=1e-5)\n",
        "print ( L [9999])"
      ],
      "metadata": {
        "colab": {
          "base_uri": "https://localhost:8080/"
        },
        "id": "gTKbHoFIrT7x",
        "outputId": "bb1957c0-cded-4ec2-d323-34c8ec8238f9"
      },
      "execution_count": 71,
      "outputs": [
        {
          "output_type": "stream",
          "name": "stdout",
          "text": [
            "31.339223408109948\n"
          ]
        }
      ]
    }
  ]
}